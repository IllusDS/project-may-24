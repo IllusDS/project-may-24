{
 "cells": [
  {
   "cell_type": "markdown",
   "metadata": {},
   "source": [
    "This notebook is an addendum to the notebook 'Capstone Rossman.ipynb'."
   ]
  },
  {
   "cell_type": "markdown",
   "metadata": {},
   "source": [
    "---"
   ]
  },
  {
   "cell_type": "markdown",
   "metadata": {},
   "source": [
    "The data in that notebook comes from this site: https://www.kaggle.com/c/rossmann-store-sales/data. There is also information about the variables. Still if you, for some reason or another, don't want to visit this website here's what the variables in the used datasets mean:"
   ]
  },
  {
   "cell_type": "markdown",
   "metadata": {},
   "source": [
    "'Id' - an Id that represents a (Store, Date) tuple within the test set"
   ]
  },
  {
   "cell_type": "markdown",
   "metadata": {},
   "source": [
    "'Store' - a unique Id for each store"
   ]
  },
  {
   "cell_type": "markdown",
   "metadata": {},
   "source": [
    "'Sales' - the turnover for any given day (the target variable)"
   ]
  },
  {
   "cell_type": "markdown",
   "metadata": {},
   "source": [
    "'Customers' - the number of customers on a given day"
   ]
  },
  {
   "cell_type": "markdown",
   "metadata": {},
   "source": [
    "'Open' - an indicator for whether the store was open: 0 = closed, 1 = open"
   ]
  },
  {
   "cell_type": "markdown",
   "metadata": {},
   "source": [
    "'StateHoliday' - indicates a state holiday. Normally all stores, with few exceptions, are closed on state holidays. Note that all schools are closed on public holidays and weekends. a = public holiday, b = Easter holiday, c = Christmas, 0 = None"
   ]
  },
  {
   "cell_type": "markdown",
   "metadata": {},
   "source": [
    "'SchoolHoliday' - indicates if the (Store, Date) was affected by the closure of public schools"
   ]
  },
  {
   "cell_type": "markdown",
   "metadata": {},
   "source": [
    "'StoreType' - differentiates between 4 different store models: a, b, c, d"
   ]
  },
  {
   "cell_type": "markdown",
   "metadata": {},
   "source": [
    "'Assortment' - describes an assortment level: a = basic, b = extra, c = extended"
   ]
  },
  {
   "cell_type": "markdown",
   "metadata": {},
   "source": [
    "'CompetitionDistance' - distance in meters to the nearest competitor store"
   ]
  },
  {
   "cell_type": "markdown",
   "metadata": {},
   "source": [
    "'CompetitionOpenSince[Month/Year]' - gives the approximate year and month of the time the nearest competitor was opened"
   ]
  },
  {
   "cell_type": "markdown",
   "metadata": {},
   "source": [
    "'Promo' - indicates whether a store is running a promo on that day"
   ]
  },
  {
   "cell_type": "markdown",
   "metadata": {},
   "source": [
    "'Promo2Since[Year/Week]' - describes the year and calendar week when the store started participating in Promo2"
   ]
  },
  {
   "cell_type": "markdown",
   "metadata": {},
   "source": [
    "'PromoInterval' - describes the consecutive intervals Promo2 is started, naming the months the promotion is started anew. E.g. \"Feb,May,Aug,Nov\" means each round starts in February, May, August, November of any given year for that store"
   ]
  },
  {
   "cell_type": "markdown",
   "metadata": {},
   "source": [
    "---"
   ]
  },
  {
   "cell_type": "markdown",
   "metadata": {},
   "source": [
    "These notebooks have been created by Illus during May 2024."
   ]
  }
 ],
 "metadata": {
  "language_info": {
   "name": "python"
  }
 },
 "nbformat": 4,
 "nbformat_minor": 2
}
